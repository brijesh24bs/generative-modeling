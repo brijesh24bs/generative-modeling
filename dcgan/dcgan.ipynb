{
 "cells": [
  {
   "cell_type": "code",
   "execution_count": 1,
   "id": "c902c118",
   "metadata": {
    "_cell_guid": "b1076dfc-b9ad-4769-8c92-a6c4dae69d19",
    "_uuid": "8f2839f25d086af736a60e9eeb907d3b93b6e0e5",
    "execution": {
     "iopub.execute_input": "2024-03-10T18:53:42.379130Z",
     "iopub.status.busy": "2024-03-10T18:53:42.378536Z",
     "iopub.status.idle": "2024-03-10T18:53:48.401627Z",
     "shell.execute_reply": "2024-03-10T18:53:48.400625Z"
    },
    "papermill": {
     "duration": 6.031645,
     "end_time": "2024-03-10T18:53:48.404008",
     "exception": false,
     "start_time": "2024-03-10T18:53:42.372363",
     "status": "completed"
    },
    "tags": []
   },
   "outputs": [],
   "source": [
    "#necessary libraries\n",
    "import torch\n",
    "import torch.nn as nn\n",
    "from torchvision import transforms\n",
    "import torch.optim as optim\n",
    "\n",
    "from torch.utils.data import Dataset, DataLoader, TensorDataset\n",
    "from torchvision.io import read_image\n",
    "from torchvision.utils import save_image\n",
    "from tqdm import tqdm"
   ]
  },
  {
   "cell_type": "code",
   "execution_count": 2,
   "id": "76c11fbb",
   "metadata": {
    "execution": {
     "iopub.execute_input": "2024-03-10T18:53:48.414757Z",
     "iopub.status.busy": "2024-03-10T18:53:48.414154Z",
     "iopub.status.idle": "2024-03-10T18:53:48.946994Z",
     "shell.execute_reply": "2024-03-10T18:53:48.946194Z"
    },
    "papermill": {
     "duration": 0.540446,
     "end_time": "2024-03-10T18:53:48.949374",
     "exception": false,
     "start_time": "2024-03-10T18:53:48.408928",
     "status": "completed"
    },
    "tags": []
   },
   "outputs": [],
   "source": [
    "import os\n",
    "folder_path = \"/kaggle/input/lego-brick-images/dataset\"\n",
    "png_files = os.listdir(folder_path)\n",
    "data_map = {}\n",
    "for idx, file in enumerate(png_files):\n",
    "    data_map[idx] = file"
   ]
  },
  {
   "cell_type": "code",
   "execution_count": 3,
   "id": "314e6899",
   "metadata": {
    "execution": {
     "iopub.execute_input": "2024-03-10T18:53:48.960203Z",
     "iopub.status.busy": "2024-03-10T18:53:48.959269Z",
     "iopub.status.idle": "2024-03-10T18:53:48.964409Z",
     "shell.execute_reply": "2024-03-10T18:53:48.963725Z"
    },
    "papermill": {
     "duration": 0.012278,
     "end_time": "2024-03-10T18:53:48.966338",
     "exception": false,
     "start_time": "2024-03-10T18:53:48.954060",
     "status": "completed"
    },
    "tags": []
   },
   "outputs": [],
   "source": [
    "#parameters\n",
    "IMAGE_SIZE = 64\n",
    "CHANNELS = 3\n",
    "BATCH_SIZE = 1024\n",
    "Z_DIM = 100\n",
    "EPOCHS = 200\n",
    "LOAD_MODEL = False\n",
    "ADAM_BETA_1 = 0.5\n",
    "ADAM_BETA_2 = 0.999\n",
    "LEARNING_RATE = 0.0002\n",
    "NOISE_PARAM = 0.1\n",
    "SAMPLE_INTERVAL = 50"
   ]
  },
  {
   "cell_type": "code",
   "execution_count": 4,
   "id": "0437cdab",
   "metadata": {
    "execution": {
     "iopub.execute_input": "2024-03-10T18:53:48.975988Z",
     "iopub.status.busy": "2024-03-10T18:53:48.975725Z",
     "iopub.status.idle": "2024-03-10T18:53:48.984504Z",
     "shell.execute_reply": "2024-03-10T18:53:48.983741Z"
    },
    "papermill": {
     "duration": 0.015818,
     "end_time": "2024-03-10T18:53:48.986422",
     "exception": false,
     "start_time": "2024-03-10T18:53:48.970604",
     "status": "completed"
    },
    "tags": []
   },
   "outputs": [],
   "source": [
    "#custom bricks dataset\n",
    "class BRICKSDataset(Dataset):\n",
    "    def __init__(self, dataset_path, data_map, transform=None):\n",
    "        super().__init__()\n",
    "        self.dataset_path = dataset_path\n",
    "        self.data_map = data_map\n",
    "        self.transform = transform\n",
    "        \n",
    "    def __len__(self):\n",
    "        return len(self.data_map)\n",
    "    \n",
    "    def __getitem__(self, idx):\n",
    "        path = self.data_map[idx]\n",
    "        file_path = os.path.join(self.dataset_path, path)\n",
    "        image = read_image(file_path)\n",
    "        if self.transform:\n",
    "            image = transform(image)\n",
    "        return image\n",
    "\n",
    "transform = transforms.Compose([\n",
    "    transforms.Resize((IMAGE_SIZE, IMAGE_SIZE), antialias=True),\n",
    "    transforms.ToPILImage(),\n",
    "    transforms.ToTensor(),\n",
    "    transforms.Normalize(mean=[0.0,0.0,0.0], std=[1.0,1.0,1.0]),\n",
    "])\n",
    "dataset = BRICKSDataset(\"/kaggle/input/lego-brick-images/dataset\", data_map, transform)\n",
    "train_loader = DataLoader(dataset, batch_size=BATCH_SIZE, shuffle=True)"
   ]
  },
  {
   "cell_type": "code",
   "execution_count": 5,
   "id": "e6836cd3",
   "metadata": {
    "execution": {
     "iopub.execute_input": "2024-03-10T18:53:48.996040Z",
     "iopub.status.busy": "2024-03-10T18:53:48.995801Z",
     "iopub.status.idle": "2024-03-10T18:53:48.999344Z",
     "shell.execute_reply": "2024-03-10T18:53:48.998592Z"
    },
    "papermill": {
     "duration": 0.010583,
     "end_time": "2024-03-10T18:53:49.001402",
     "exception": false,
     "start_time": "2024-03-10T18:53:48.990819",
     "status": "completed"
    },
    "tags": []
   },
   "outputs": [],
   "source": [
    "# dataset[0]"
   ]
  },
  {
   "cell_type": "code",
   "execution_count": 6,
   "id": "4566c9f3",
   "metadata": {
    "execution": {
     "iopub.execute_input": "2024-03-10T18:53:49.010880Z",
     "iopub.status.busy": "2024-03-10T18:53:49.010642Z",
     "iopub.status.idle": "2024-03-10T18:53:49.183533Z",
     "shell.execute_reply": "2024-03-10T18:53:49.182503Z"
    },
    "papermill": {
     "duration": 0.180567,
     "end_time": "2024-03-10T18:53:49.186211",
     "exception": false,
     "start_time": "2024-03-10T18:53:49.005644",
     "status": "completed"
    },
    "tags": []
   },
   "outputs": [
    {
     "data": {
      "image/png": "[encoded data removed]",
      "text/plain": [
       "<Figure size 640x480 with 1 Axes>"
      ]
     },
     "metadata": {},
     "output_type": "display_data"
    }
   ],
   "source": [
    "import matplotlib.pyplot as plt\n",
    "import numpy as np\n",
    "image = dataset[10]\n",
    "\n",
    "image = np.transpose(image, (1, 2, 0))\n",
    "\n",
    "plt.imshow(image)\n",
    "plt.axis('off')\n",
    "plt.show()"
   ]
  },
  {
   "cell_type": "code",
   "execution_count": 7,
   "id": "748d9fbb",
   "metadata": {
    "execution": {
     "iopub.execute_input": "2024-03-10T18:53:49.202697Z",
     "iopub.status.busy": "2024-03-10T18:53:49.202241Z",
     "iopub.status.idle": "2024-03-10T18:53:49.220141Z",
     "shell.execute_reply": "2024-03-10T18:53:49.219180Z"
    },
    "papermill": {
     "duration": 0.028876,
     "end_time": "2024-03-10T18:53:49.222229",
     "exception": false,
     "start_time": "2024-03-10T18:53:49.193353",
     "status": "completed"
    },
    "tags": []
   },
   "outputs": [],
   "source": [
    "#defining the generator model\n",
    "class Discriminator(nn.Module):\n",
    "    def __init__(self, image_size=64, channels=3):\n",
    "        super().__init__()\n",
    "        self.layers = nn.Sequential(\n",
    "            nn.Conv2d(channels, 64, kernel_size=4, stride=2, padding=1, bias=False),\n",
    "            nn.LeakyReLU(0.2, inplace=True),\n",
    "            nn.Dropout(0.3),\n",
    "            nn.Conv2d(64, 128, kernel_size=4, stride=2, padding=1, bias=False),\n",
    "            nn.BatchNorm2d(128),\n",
    "            nn.LeakyReLU(0.2, inplace=True),\n",
    "            nn.Dropout(0.3),\n",
    "            nn.Conv2d(128, 256, kernel_size=4, stride=2, padding=1, bias=False),\n",
    "            nn.BatchNorm2d(256),\n",
    "            nn.LeakyReLU(0.2, inplace=True),\n",
    "            nn.Dropout(0.3),\n",
    "            nn.Conv2d(256, 512, kernel_size=4, stride=2, padding=1, bias=False),\n",
    "            nn.BatchNorm2d(512),\n",
    "            nn.LeakyReLU(0.2, inplace=True),\n",
    "            nn.Dropout(0.3),\n",
    "            nn.Conv2d(512, 1, kernel_size=4, stride=1, padding=0, bias=False),\n",
    "            nn.Sigmoid()\n",
    "        )\n",
    "        self.flatten = nn.Flatten()\n",
    "    \n",
    "    def forward(self, x):\n",
    "        x = self.layers(x)\n",
    "        x = self.flatten(x)\n",
    "        return x\n",
    "\n",
    "# discriminator = Discriminator()\n",
    "# discriminator(dataset[0].unsqueeze(0)).size()"
   ]
  },
  {
   "cell_type": "code",
   "execution_count": 8,
   "id": "8eeb15e2",
   "metadata": {
    "execution": {
     "iopub.execute_input": "2024-03-10T18:53:49.233176Z",
     "iopub.status.busy": "2024-03-10T18:53:49.232878Z",
     "iopub.status.idle": "2024-03-10T18:53:49.242552Z",
     "shell.execute_reply": "2024-03-10T18:53:49.241610Z"
    },
    "papermill": {
     "duration": 0.017568,
     "end_time": "2024-03-10T18:53:49.244689",
     "exception": false,
     "start_time": "2024-03-10T18:53:49.227121",
     "status": "completed"
    },
    "tags": []
   },
   "outputs": [],
   "source": [
    "class Generator(nn.Module):\n",
    "    def __init__(self, z_dim=100, channels=3):\n",
    "        super().__init__()\n",
    "        self.fc = nn.Linear(z_dim, 1*1*256)\n",
    "        self.conv_layers = nn.Sequential(\n",
    "            nn.ConvTranspose2d(256, 512, kernel_size=4, stride=1, padding=0, bias=False),\n",
    "            nn.BatchNorm2d(512),\n",
    "            nn.LeakyReLU(0.2, inplace=True),\n",
    "            nn.ConvTranspose2d(512, 256, kernel_size=4, stride=2, padding=1, bias=False),\n",
    "            nn.BatchNorm2d(256),\n",
    "            nn.LeakyReLU(0.2, inplace=True),\n",
    "            nn.ConvTranspose2d(256, 128, kernel_size=4, stride=2, padding=1, bias=False),\n",
    "            nn.BatchNorm2d(128),\n",
    "            nn.LeakyReLU(0.2, inplace=True),\n",
    "            nn.ConvTranspose2d(128, 64, kernel_size=4, stride=2, padding=1, bias=False),\n",
    "            nn.BatchNorm2d(64),\n",
    "            nn.LeakyReLU(0.2, inplace=True),\n",
    "            nn.ConvTranspose2d(64, channels, kernel_size=4, stride=2, padding=1, bias=False),\n",
    "            nn.Tanh()\n",
    "        )\n",
    "    def forward(self, x):\n",
    "        x = self.fc(x)\n",
    "        x = x.view(-1, 256, 1, 1)\n",
    "        x = self.conv_layers(x)\n",
    "        return x\n",
    "\n",
    "# generator = Generator()\n",
    "# generator(torch.randn((1,100))).size()"
   ]
  },
  {
   "cell_type": "code",
   "execution_count": 9,
   "id": "2b8f3c0a",
   "metadata": {
    "execution": {
     "iopub.execute_input": "2024-03-10T18:53:49.255168Z",
     "iopub.status.busy": "2024-03-10T18:53:49.254904Z",
     "iopub.status.idle": "2024-03-10T18:53:49.259066Z",
     "shell.execute_reply": "2024-03-10T18:53:49.258147Z"
    },
    "papermill": {
     "duration": 0.011577,
     "end_time": "2024-03-10T18:53:49.261187",
     "exception": false,
     "start_time": "2024-03-10T18:53:49.249610",
     "status": "completed"
    },
    "tags": []
   },
   "outputs": [],
   "source": [
    "# import matplotlib.pyplot as plt\n",
    "# image = generator(torch.randn((1,100)))\n",
    "# image = image.squeeze().permute(1,2,0).detach().cpu().numpy()\n",
    "\n",
    "# plt.imshow(image)\n",
    "# plt.axis('off')\n",
    "# plt.show()"
   ]
  },
  {
   "cell_type": "code",
   "execution_count": 10,
   "id": "1a65ab72",
   "metadata": {
    "execution": {
     "iopub.execute_input": "2024-03-10T18:53:49.271543Z",
     "iopub.status.busy": "2024-03-10T18:53:49.271251Z",
     "iopub.status.idle": "2024-03-10T18:53:49.282268Z",
     "shell.execute_reply": "2024-03-10T18:53:49.281434Z"
    },
    "papermill": {
     "duration": 0.018449,
     "end_time": "2024-03-10T18:53:49.284184",
     "exception": false,
     "start_time": "2024-03-10T18:53:49.265735",
     "status": "completed"
    },
    "tags": []
   },
   "outputs": [],
   "source": [
    "# building DCGAN\n",
    "\n",
    "class DCGAN(nn.Module):\n",
    "    def __init__(self, generator, discriminator, latent_dim, device):\n",
    "        super().__init__()\n",
    "        self.generator = generator\n",
    "        self.discriminator = discriminator\n",
    "        self.latent_dim = latent_dim\n",
    "        self.loss_fn = nn.BCELoss()\n",
    "        self.device = device\n",
    "        \n",
    "    def compile(self, d_optimizer, g_optimizer):\n",
    "        self.d_optimizer = d_optimizer\n",
    "        self.g_optimizer = g_optimizer\n",
    "        \n",
    "    def train_step(self, real_images):\n",
    "        batch_size = real_images.size(0)\n",
    "        real_labels = torch.ones(batch_size, 1).to(self.device)\n",
    "        fake_labels = torch.zeros(batch_size, 1).to(self.device)\n",
    "        \n",
    "        #train discriminator\n",
    "        self.d_optimizer.zero_grad()\n",
    "        random_latent_vectors = torch.randn(batch_size, self.latent_dim).to(device) #[batch_size, 100, 1, 1]\n",
    "        generated_images = self.generator(random_latent_vectors)\n",
    "#         print(real_images.device)\n",
    "        real_predictions = self.discriminator(real_images)\n",
    "        fake_predictions = self.discriminator(generated_images.detach())\n",
    "        \n",
    "        d_real_loss = self.loss_fn(real_predictions, real_labels)\n",
    "        d_fake_loss = self.loss_fn(fake_predictions, fake_labels)\n",
    "        d_loss = (d_real_loss + d_fake_loss)/2.0\n",
    "        d_loss.backward()\n",
    "        self.d_optimizer.step()\n",
    "        \n",
    "        #train generator\n",
    "        self.g_optimizer.zero_grad()\n",
    "        fake_predictions = self.discriminator(generated_images)\n",
    "        \n",
    "        #we want generated images to be predicted close to 1(real)\n",
    "        #we want generator to be strong\n",
    "        g_loss = self.loss_fn(fake_predictions, real_labels)\n",
    "        g_loss.backward()\n",
    "        self.g_optimizer.step()\n",
    "        \n",
    "        return d_loss.item(), g_loss.item()\n",
    "    \n",
    "    def generate_images(self, num_images):\n",
    "        random_latent_vectors = torch.randn(num_images, self.latent_dim)\n",
    "        generated_images = self.generator(random_latent_vectors)\n",
    "        return generated_images"
   ]
  },
  {
   "cell_type": "code",
   "execution_count": 11,
   "id": "a40480a1",
   "metadata": {
    "execution": {
     "iopub.execute_input": "2024-03-10T18:53:49.294795Z",
     "iopub.status.busy": "2024-03-10T18:53:49.294126Z",
     "iopub.status.idle": "2024-03-10T18:53:49.582446Z",
     "shell.execute_reply": "2024-03-10T18:53:49.581478Z"
    },
    "papermill": {
     "duration": 0.296212,
     "end_time": "2024-03-10T18:53:49.584867",
     "exception": false,
     "start_time": "2024-03-10T18:53:49.288655",
     "status": "completed"
    },
    "tags": []
   },
   "outputs": [],
   "source": [
    "os.makedirs('./models', exist_ok=True)\n",
    "device = 'cuda:0' if torch.cuda.is_available() else 'cpu'\n",
    "\n",
    "#training loop\n",
    "discriminator = Discriminator().to(device)\n",
    "generator = Generator().to(device)\n",
    "\n",
    "dcgan = DCGAN(generator, discriminator, latent_dim=Z_DIM, device=device)\n",
    "dcgan.to(device)\n",
    "\n",
    "d_optimizer = optim.Adam(discriminator.parameters(), lr=LEARNING_RATE, betas=(ADAM_BETA_1,ADAM_BETA_2))\n",
    "g_optimizer = optim.Adam(generator.parameters(), lr=LEARNING_RATE, betas=(ADAM_BETA_1,ADAM_BETA_2))\n",
    "dcgan.compile(d_optimizer, g_optimizer)\n",
    "\n",
    "# Move optimizer's state to the same device as the model\n",
    "for optimizer in [d_optimizer, g_optimizer]:\n",
    "    for state in optimizer.state.values():\n",
    "        for key, value in state.items():\n",
    "            if isinstance(value, torch.Tensor):\n",
    "                state[key] = value.to(device)"
   ]
  },
  {
   "cell_type": "code",
   "execution_count": 12,
   "id": "6fd3635f",
   "metadata": {
    "execution": {
     "iopub.execute_input": "2024-03-10T18:53:49.596070Z",
     "iopub.status.busy": "2024-03-10T18:53:49.595215Z",
     "iopub.status.idle": "2024-03-10T18:53:49.599097Z",
     "shell.execute_reply": "2024-03-10T18:53:49.598388Z"
    },
    "papermill": {
     "duration": 0.011267,
     "end_time": "2024-03-10T18:53:49.600951",
     "exception": false,
     "start_time": "2024-03-10T18:53:49.589684",
     "status": "completed"
    },
    "tags": []
   },
   "outputs": [],
   "source": [
    "# print(dcgan.generator)"
   ]
  },
  {
   "cell_type": "code",
   "execution_count": 13,
   "id": "22007331",
   "metadata": {
    "execution": {
     "iopub.execute_input": "2024-03-10T18:53:49.610733Z",
     "iopub.status.busy": "2024-03-10T18:53:49.610434Z"
    },
    "papermill": {
     "duration": null,
     "end_time": null,
     "exception": false,
     "start_time": "2024-03-10T18:53:49.605291",
     "status": "running"
    },
    "tags": []
   },
   "outputs": [
    {
     "name": "stdout",
     "output_type": "stream",
     "text": [
      "Epoch [1/200], Discriminator Loss: 0.12190978229045868, Generator Loss: 7.597405433654785\n"
     ]
    },
    {
     "name": "stdout",
     "output_type": "stream",
     "text": [
      "Epoch [2/200], Discriminator Loss: 0.4068436622619629, Generator Loss: 7.047869682312012\n"
     ]
    },
    {
     "name": "stdout",
     "output_type": "stream",
     "text": [
      "Epoch [3/200], Discriminator Loss: 0.3508804738521576, Generator Loss: 2.565000534057617\n"
     ]
    },
    {
     "name": "stdout",
     "output_type": "stream",
     "text": [
      "Epoch [4/200], Discriminator Loss: 0.23328082263469696, Generator Loss: 3.1905150413513184\n"
     ]
    },
    {
     "name": "stdout",
     "output_type": "stream",
     "text": [
      "Epoch [5/200], Discriminator Loss: 0.2872557044029236, Generator Loss: 3.330364942550659\n"
     ]
    },
    {
     "name": "stdout",
     "output_type": "stream",
     "text": [
      "Epoch [6/200], Discriminator Loss: 0.1684587448835373, Generator Loss: 3.7168991565704346\n"
     ]
    },
    {
     "name": "stdout",
     "output_type": "stream",
     "text": [
      "Epoch [7/200], Discriminator Loss: 0.10491855442523956, Generator Loss: 4.08546781539917\n"
     ]
    },
    {
     "name": "stdout",
     "output_type": "stream",
     "text": [
      "Epoch [8/200], Discriminator Loss: 0.13043293356895447, Generator Loss: 4.33249568939209\n"
     ]
    },
    {
     "name": "stdout",
     "output_type": "stream",
     "text": [
      "Epoch [9/200], Discriminator Loss: 0.13369950652122498, Generator Loss: 5.101870536804199\n"
     ]
    },
    {
     "name": "stdout",
     "output_type": "stream",
     "text": [
      "Epoch [10/200], Discriminator Loss: 0.09172475337982178, Generator Loss: 5.189931392669678\n",
      "Model saved for epoch: 10\n"
     ]
    },
    {
     "name": "stdout",
     "output_type": "stream",
     "text": [
      "Epoch [11/200], Discriminator Loss: 0.06490086019039154, Generator Loss: 5.052677631378174\n"
     ]
    },
    {
     "name": "stdout",
     "output_type": "stream",
     "text": [
      "Epoch [12/200], Discriminator Loss: 0.0616491362452507, Generator Loss: 5.06304931640625\n"
     ]
    },
    {
     "name": "stdout",
     "output_type": "stream",
     "text": [
      "Epoch [13/200], Discriminator Loss: 0.16165830194950104, Generator Loss: 4.749039649963379\n"
     ]
    },
    {
     "name": "stdout",
     "output_type": "stream",
     "text": [
      "Epoch [14/200], Discriminator Loss: 0.10069884359836578, Generator Loss: 4.5345563888549805\n"
     ]
    },
    {
     "name": "stdout",
     "output_type": "stream",
     "text": [
      "Epoch [15/200], Discriminator Loss: 0.0376911498606205, Generator Loss: 5.473535537719727\n"
     ]
    },
    {
     "name": "stdout",
     "output_type": "stream",
     "text": [
      "Epoch [16/200], Discriminator Loss: 0.24598824977874756, Generator Loss: 3.7494053840637207\n"
     ]
    },
    {
     "name": "stdout",
     "output_type": "stream",
     "text": [
      "Epoch [17/200], Discriminator Loss: 0.11521781980991364, Generator Loss: 4.687252044677734\n"
     ]
    },
    {
     "name": "stdout",
     "output_type": "stream",
     "text": [
      "Epoch [18/200], Discriminator Loss: 0.030832136049866676, Generator Loss: 5.447042465209961\n"
     ]
    },
    {
     "name": "stdout",
     "output_type": "stream",
     "text": [
      "Epoch [19/200], Discriminator Loss: 0.2156059294939041, Generator Loss: 5.600048542022705\n"
     ]
    },
    {
     "name": "stdout",
     "output_type": "stream",
     "text": [
      "Epoch [20/200], Discriminator Loss: 0.1085093766450882, Generator Loss: 5.042123317718506\n",
      "Model saved for epoch: 20\n"
     ]
    },
    {
     "name": "stdout",
     "output_type": "stream",
     "text": [
      "Epoch [21/200], Discriminator Loss: 0.09425882995128632, Generator Loss: 5.741213321685791\n"
     ]
    },
    {
     "name": "stdout",
     "output_type": "stream",
     "text": [
      "Epoch [22/200], Discriminator Loss: 0.04099634289741516, Generator Loss: 6.058545112609863\n"
     ]
    },
    {
     "name": "stdout",
     "output_type": "stream",
     "text": [
      "Epoch [23/200], Discriminator Loss: 0.027845878154039383, Generator Loss: 6.526533603668213\n"
     ]
    },
    {
     "name": "stdout",
     "output_type": "stream",
     "text": [
      "Epoch [24/200], Discriminator Loss: 0.02271275408565998, Generator Loss: 6.190903186798096\n"
     ]
    },
    {
     "name": "stdout",
     "output_type": "stream",
     "text": [
      "Epoch [25/200], Discriminator Loss: 0.02079043909907341, Generator Loss: 6.30874490737915\n"
     ]
    },
    {
     "name": "stdout",
     "output_type": "stream",
     "text": [
      "Epoch [26/200], Discriminator Loss: 0.09958699345588684, Generator Loss: 5.9066643714904785\n"
     ]
    },
    {
     "name": "stdout",
     "output_type": "stream",
     "text": [
      "Epoch [27/200], Discriminator Loss: 0.03668288514018059, Generator Loss: 7.973437309265137\n"
     ]
    },
    {
     "name": "stdout",
     "output_type": "stream",
     "text": [
      "Epoch [28/200], Discriminator Loss: 0.05209953337907791, Generator Loss: 8.021821975708008\n"
     ]
    },
    {
     "name": "stdout",
     "output_type": "stream",
     "text": [
      "Epoch [29/200], Discriminator Loss: 0.0749741643667221, Generator Loss: 6.950898170471191\n"
     ]
    },
    {
     "name": "stdout",
     "output_type": "stream",
     "text": [
      "Epoch [30/200], Discriminator Loss: 0.05457097291946411, Generator Loss: 6.753839015960693\n",
      "Model saved for epoch: 30\n"
     ]
    },
    {
     "name": "stdout",
     "output_type": "stream",
     "text": [
      "Epoch [31/200], Discriminator Loss: 0.01968257687985897, Generator Loss: 6.669390678405762\n"
     ]
    },
    {
     "name": "stdout",
     "output_type": "stream",
     "text": [
      "Epoch [32/200], Discriminator Loss: 0.016580786556005478, Generator Loss: 6.984622001647949\n"
     ]
    },
    {
     "name": "stdout",
     "output_type": "stream",
     "text": [
      "Epoch [33/200], Discriminator Loss: 0.01473933644592762, Generator Loss: 7.094964027404785\n"
     ]
    },
    {
     "name": "stdout",
     "output_type": "stream",
     "text": [
      "Epoch [34/200], Discriminator Loss: 0.11290285736322403, Generator Loss: 6.971957206726074\n"
     ]
    },
    {
     "name": "stdout",
     "output_type": "stream",
     "text": [
      "Epoch [35/200], Discriminator Loss: 0.027589192613959312, Generator Loss: 7.230676174163818\n"
     ]
    },
    {
     "name": "stdout",
     "output_type": "stream",
     "text": [
      "Epoch [36/200], Discriminator Loss: 0.029765719547867775, Generator Loss: 6.847442626953125\n"
     ]
    },
    {
     "name": "stdout",
     "output_type": "stream",
     "text": [
      "Epoch [37/200], Discriminator Loss: 0.11101950705051422, Generator Loss: 6.291609764099121\n"
     ]
    },
    {
     "name": "stdout",
     "output_type": "stream",
     "text": [
      "Epoch [38/200], Discriminator Loss: 0.04493524879217148, Generator Loss: 7.104526519775391\n"
     ]
    },
    {
     "name": "stdout",
     "output_type": "stream",
     "text": [
      "Epoch [39/200], Discriminator Loss: 0.139711394906044, Generator Loss: 7.0167646408081055\n"
     ]
    },
    {
     "name": "stdout",
     "output_type": "stream",
     "text": [
      "Epoch [40/200], Discriminator Loss: 0.02671680971980095, Generator Loss: 6.782839775085449\n",
      "Model saved for epoch: 40\n"
     ]
    },
    {
     "name": "stdout",
     "output_type": "stream",
     "text": [
      "Epoch [41/200], Discriminator Loss: 0.021043220534920692, Generator Loss: 7.481276035308838\n"
     ]
    },
    {
     "name": "stdout",
     "output_type": "stream",
     "text": [
      "Epoch [42/200], Discriminator Loss: 0.018205033615231514, Generator Loss: 7.153611660003662\n"
     ]
    },
    {
     "name": "stdout",
     "output_type": "stream",
     "text": [
      "Epoch [43/200], Discriminator Loss: 0.01040641963481903, Generator Loss: 6.987206935882568\n"
     ]
    },
    {
     "name": "stdout",
     "output_type": "stream",
     "text": [
      "Epoch [44/200], Discriminator Loss: 0.01848132349550724, Generator Loss: 7.101870536804199\n"
     ]
    },
    {
     "name": "stdout",
     "output_type": "stream",
     "text": [
      "Epoch [45/200], Discriminator Loss: 0.016243522986769676, Generator Loss: 7.854485511779785\n"
     ]
    },
    {
     "name": "stdout",
     "output_type": "stream",
     "text": [
      "Epoch [46/200], Discriminator Loss: 0.009249710477888584, Generator Loss: 7.623843193054199\n"
     ]
    },
    {
     "name": "stdout",
     "output_type": "stream",
     "text": [
      "Epoch [47/200], Discriminator Loss: 0.011936302296817303, Generator Loss: 7.594101905822754\n"
     ]
    },
    {
     "name": "stdout",
     "output_type": "stream",
     "text": [
      "Epoch [48/200], Discriminator Loss: 0.1032675951719284, Generator Loss: 7.306584358215332\n"
     ]
    },
    {
     "name": "stdout",
     "output_type": "stream",
     "text": [
      "Epoch [49/200], Discriminator Loss: 0.01852826029062271, Generator Loss: 7.715453147888184\n"
     ]
    },
    {
     "name": "stdout",
     "output_type": "stream",
     "text": [
      "Epoch [50/200], Discriminator Loss: 0.008732706308364868, Generator Loss: 6.919947624206543\n",
      "Model saved for epoch: 50\n"
     ]
    },
    {
     "name": "stdout",
     "output_type": "stream",
     "text": [
      "Epoch [51/200], Discriminator Loss: 0.008847048506140709, Generator Loss: 6.8257856369018555\n"
     ]
    },
    {
     "name": "stdout",
     "output_type": "stream",
     "text": [
      "Epoch [52/200], Discriminator Loss: 0.029912937432527542, Generator Loss: 7.1540069580078125\n"
     ]
    },
    {
     "name": "stdout",
     "output_type": "stream",
     "text": [
      "Epoch [53/200], Discriminator Loss: 0.019192060455679893, Generator Loss: 7.033216953277588\n"
     ]
    },
    {
     "name": "stdout",
     "output_type": "stream",
     "text": [
      "Epoch [54/200], Discriminator Loss: 0.009333213791251183, Generator Loss: 7.872203826904297\n"
     ]
    },
    {
     "name": "stdout",
     "output_type": "stream",
     "text": [
      "Epoch [55/200], Discriminator Loss: 0.15592801570892334, Generator Loss: 6.3962225914001465\n"
     ]
    },
    {
     "name": "stdout",
     "output_type": "stream",
     "text": [
      "Epoch [56/200], Discriminator Loss: 0.05144248530268669, Generator Loss: 7.236029624938965\n"
     ]
    },
    {
     "name": "stdout",
     "output_type": "stream",
     "text": [
      "Epoch [57/200], Discriminator Loss: 0.018331995233893394, Generator Loss: 6.954639434814453\n"
     ]
    },
    {
     "name": "stdout",
     "output_type": "stream",
     "text": [
      "Epoch [58/200], Discriminator Loss: 0.01241237111389637, Generator Loss: 7.537210941314697\n"
     ]
    },
    {
     "name": "stdout",
     "output_type": "stream",
     "text": [
      "Epoch [59/200], Discriminator Loss: 0.1844058334827423, Generator Loss: 7.15555477142334\n"
     ]
    },
    {
     "name": "stdout",
     "output_type": "stream",
     "text": [
      "Epoch [60/200], Discriminator Loss: 0.14620760083198547, Generator Loss: 6.739367485046387\n",
      "Model saved for epoch: 60\n"
     ]
    },
    {
     "name": "stdout",
     "output_type": "stream",
     "text": [
      "Epoch [61/200], Discriminator Loss: 0.029838841408491135, Generator Loss: 5.882201671600342\n"
     ]
    },
    {
     "name": "stdout",
     "output_type": "stream",
     "text": [
      "Epoch [62/200], Discriminator Loss: 0.016900939866900444, Generator Loss: 6.383262634277344\n"
     ]
    },
    {
     "name": "stdout",
     "output_type": "stream",
     "text": [
      "Epoch [63/200], Discriminator Loss: 0.01434933952987194, Generator Loss: 7.365390777587891\n"
     ]
    },
    {
     "name": "stdout",
     "output_type": "stream",
     "text": [
      "Epoch [64/200], Discriminator Loss: 0.027213821187615395, Generator Loss: 7.547350883483887\n"
     ]
    },
    {
     "name": "stdout",
     "output_type": "stream",
     "text": [
      "Epoch [65/200], Discriminator Loss: 0.008773664012551308, Generator Loss: 7.191440582275391\n"
     ]
    },
    {
     "name": "stdout",
     "output_type": "stream",
     "text": [
      "Epoch [66/200], Discriminator Loss: 0.008793923072516918, Generator Loss: 7.966638088226318\n"
     ]
    },
    {
     "name": "stdout",
     "output_type": "stream",
     "text": [
      "Epoch [67/200], Discriminator Loss: 0.08379311859607697, Generator Loss: 7.747428894042969\n"
     ]
    },
    {
     "name": "stdout",
     "output_type": "stream",
     "text": [
      "Epoch [68/200], Discriminator Loss: 0.019242161884903908, Generator Loss: 6.711102485656738\n"
     ]
    },
    {
     "name": "stdout",
     "output_type": "stream",
     "text": [
      "Epoch [69/200], Discriminator Loss: 0.012663476169109344, Generator Loss: 7.213951110839844\n"
     ]
    },
    {
     "name": "stdout",
     "output_type": "stream",
     "text": [
      "Epoch [70/200], Discriminator Loss: 0.012910592369735241, Generator Loss: 7.5513916015625\n",
      "Model saved for epoch: 70\n"
     ]
    },
    {
     "name": "stdout",
     "output_type": "stream",
     "text": [
      "Epoch [71/200], Discriminator Loss: 0.022508865222334862, Generator Loss: 8.057177543640137\n"
     ]
    },
    {
     "name": "stdout",
     "output_type": "stream",
     "text": [
      "Epoch [72/200], Discriminator Loss: 0.02474001608788967, Generator Loss: 7.558327674865723\n"
     ]
    },
    {
     "name": "stdout",
     "output_type": "stream",
     "text": [
      "Epoch [73/200], Discriminator Loss: 0.01626645214855671, Generator Loss: 7.871098518371582\n"
     ]
    },
    {
     "name": "stdout",
     "output_type": "stream",
     "text": [
      "Epoch [74/200], Discriminator Loss: 0.01013163197785616, Generator Loss: 7.88717794418335\n"
     ]
    },
    {
     "name": "stdout",
     "output_type": "stream",
     "text": [
      "Epoch [75/200], Discriminator Loss: 0.007231871131807566, Generator Loss: 7.794778347015381\n"
     ]
    },
    {
     "name": "stdout",
     "output_type": "stream",
     "text": [
      "Epoch [76/200], Discriminator Loss: 0.00934135913848877, Generator Loss: 8.066305160522461\n"
     ]
    },
    {
     "name": "stdout",
     "output_type": "stream",
     "text": [
      "Epoch [77/200], Discriminator Loss: 0.05411561578512192, Generator Loss: 8.143160820007324\n"
     ]
    },
    {
     "name": "stdout",
     "output_type": "stream",
     "text": [
      "Epoch [78/200], Discriminator Loss: 0.07499675452709198, Generator Loss: 7.28420877456665\n"
     ]
    },
    {
     "name": "stdout",
     "output_type": "stream",
     "text": [
      "Epoch [79/200], Discriminator Loss: 0.017756912857294083, Generator Loss: 7.365823268890381\n"
     ]
    },
    {
     "name": "stdout",
     "output_type": "stream",
     "text": [
      "Epoch [80/200], Discriminator Loss: 0.03643638268113136, Generator Loss: 8.661733627319336\n",
      "Model saved for epoch: 80\n"
     ]
    },
    {
     "name": "stdout",
     "output_type": "stream",
     "text": [
      "Epoch [81/200], Discriminator Loss: 0.012641996145248413, Generator Loss: 8.00049114227295\n"
     ]
    },
    {
     "name": "stdout",
     "output_type": "stream",
     "text": [
      "Epoch [82/200], Discriminator Loss: 0.007761680521070957, Generator Loss: 7.782528877258301\n"
     ]
    },
    {
     "name": "stdout",
     "output_type": "stream",
     "text": [
      "Epoch [83/200], Discriminator Loss: 0.010921109467744827, Generator Loss: 7.614284515380859\n"
     ]
    },
    {
     "name": "stdout",
     "output_type": "stream",
     "text": [
      "Epoch [84/200], Discriminator Loss: 0.007601644843816757, Generator Loss: 7.907242774963379\n"
     ]
    },
    {
     "name": "stdout",
     "output_type": "stream",
     "text": [
      "Epoch [85/200], Discriminator Loss: 0.00980706699192524, Generator Loss: 8.63212776184082\n"
     ]
    },
    {
     "name": "stdout",
     "output_type": "stream",
     "text": [
      "Epoch [86/200], Discriminator Loss: 0.008526870980858803, Generator Loss: 8.809895515441895\n"
     ]
    },
    {
     "name": "stdout",
     "output_type": "stream",
     "text": [
      "Epoch [87/200], Discriminator Loss: 0.007786804344505072, Generator Loss: 9.137590408325195\n"
     ]
    },
    {
     "name": "stdout",
     "output_type": "stream",
     "text": [
      "Epoch [88/200], Discriminator Loss: 0.24701173603534698, Generator Loss: 8.395784378051758\n"
     ]
    },
    {
     "name": "stdout",
     "output_type": "stream",
     "text": [
      "Epoch [89/200], Discriminator Loss: 0.13594567775726318, Generator Loss: 6.049381256103516\n"
     ]
    },
    {
     "name": "stdout",
     "output_type": "stream",
     "text": [
      "Epoch [90/200], Discriminator Loss: 0.044740013778209686, Generator Loss: 5.893397331237793\n",
      "Model saved for epoch: 90\n"
     ]
    },
    {
     "name": "stdout",
     "output_type": "stream",
     "text": [
      "Epoch [91/200], Discriminator Loss: 0.01418925542384386, Generator Loss: 6.726309776306152\n"
     ]
    },
    {
     "name": "stdout",
     "output_type": "stream",
     "text": [
      "Epoch [92/200], Discriminator Loss: 0.016749918460845947, Generator Loss: 6.897130012512207\n"
     ]
    },
    {
     "name": "stdout",
     "output_type": "stream",
     "text": [
      "Epoch [93/200], Discriminator Loss: 0.013271224685013294, Generator Loss: 7.448678016662598\n"
     ]
    },
    {
     "name": "stdout",
     "output_type": "stream",
     "text": [
      "Epoch [94/200], Discriminator Loss: 0.008412372320890427, Generator Loss: 7.388979911804199\n"
     ]
    },
    {
     "name": "stdout",
     "output_type": "stream",
     "text": [
      "Epoch [95/200], Discriminator Loss: 0.008675756864249706, Generator Loss: 7.322906494140625\n"
     ]
    },
    {
     "name": "stdout",
     "output_type": "stream",
     "text": [
      "Epoch [96/200], Discriminator Loss: 0.006677957717329264, Generator Loss: 7.868607521057129\n"
     ]
    },
    {
     "name": "stdout",
     "output_type": "stream",
     "text": [
      "Epoch [97/200], Discriminator Loss: 0.006739981472492218, Generator Loss: 8.176595687866211\n"
     ]
    },
    {
     "name": "stdout",
     "output_type": "stream",
     "text": [
      "Epoch [98/200], Discriminator Loss: 0.1422145515680313, Generator Loss: 8.083444595336914\n"
     ]
    },
    {
     "name": "stdout",
     "output_type": "stream",
     "text": [
      "Epoch [99/200], Discriminator Loss: 0.23772814869880676, Generator Loss: 5.92061710357666\n"
     ]
    },
    {
     "name": "stdout",
     "output_type": "stream",
     "text": [
      "Epoch [100/200], Discriminator Loss: 0.0844133049249649, Generator Loss: 5.807553291320801\n",
      "Model saved for epoch: 100\n"
     ]
    },
    {
     "name": "stdout",
     "output_type": "stream",
     "text": [
      "Epoch [101/200], Discriminator Loss: 0.04989872872829437, Generator Loss: 7.010643005371094\n"
     ]
    },
    {
     "name": "stdout",
     "output_type": "stream",
     "text": [
      "Epoch [102/200], Discriminator Loss: 0.01609937660396099, Generator Loss: 6.484803676605225\n"
     ]
    },
    {
     "name": "stdout",
     "output_type": "stream",
     "text": [
      "Epoch [103/200], Discriminator Loss: 0.011331908404827118, Generator Loss: 7.2517805099487305\n"
     ]
    },
    {
     "name": "stdout",
     "output_type": "stream",
     "text": [
      "Epoch [104/200], Discriminator Loss: 0.01266478467732668, Generator Loss: 7.486475944519043\n"
     ]
    },
    {
     "name": "stdout",
     "output_type": "stream",
     "text": [
      "Epoch [105/200], Discriminator Loss: 0.017615094780921936, Generator Loss: 7.6782026290893555\n"
     ]
    },
    {
     "name": "stdout",
     "output_type": "stream",
     "text": [
      "Epoch [106/200], Discriminator Loss: 0.01032913289964199, Generator Loss: 7.796152591705322\n"
     ]
    },
    {
     "name": "stdout",
     "output_type": "stream",
     "text": [
      "Epoch [107/200], Discriminator Loss: 0.0159025676548481, Generator Loss: 7.917877197265625\n"
     ]
    },
    {
     "name": "stdout",
     "output_type": "stream",
     "text": [
      "Epoch [108/200], Discriminator Loss: 0.009293530136346817, Generator Loss: 8.156659126281738\n"
     ]
    },
    {
     "name": "stdout",
     "output_type": "stream",
     "text": [
      "Epoch [109/200], Discriminator Loss: 0.010129171423614025, Generator Loss: 7.7310285568237305\n"
     ]
    },
    {
     "name": "stdout",
     "output_type": "stream",
     "text": [
      "Epoch [110/200], Discriminator Loss: 0.00581988925114274, Generator Loss: 7.707542419433594\n",
      "Model saved for epoch: 110\n"
     ]
    },
    {
     "name": "stdout",
     "output_type": "stream",
     "text": [
      "Epoch [111/200], Discriminator Loss: 0.004914635326713324, Generator Loss: 7.6791791915893555\n"
     ]
    },
    {
     "name": "stdout",
     "output_type": "stream",
     "text": [
      "Epoch [112/200], Discriminator Loss: 0.007400599308311939, Generator Loss: 8.092554092407227\n"
     ]
    },
    {
     "name": "stdout",
     "output_type": "stream",
     "text": [
      "Epoch [113/200], Discriminator Loss: 0.08398661017417908, Generator Loss: 8.323066711425781\n"
     ]
    },
    {
     "name": "stdout",
     "output_type": "stream",
     "text": [
      "Epoch [114/200], Discriminator Loss: 0.03421185165643692, Generator Loss: 6.77869176864624\n"
     ]
    },
    {
     "name": "stdout",
     "output_type": "stream",
     "text": [
      "Epoch [115/200], Discriminator Loss: 0.013848237693309784, Generator Loss: 6.976296424865723\n"
     ]
    },
    {
     "name": "stdout",
     "output_type": "stream",
     "text": [
      "Epoch [116/200], Discriminator Loss: 0.011782480403780937, Generator Loss: 7.57058048248291\n"
     ]
    },
    {
     "name": "stdout",
     "output_type": "stream",
     "text": [
      "Epoch [117/200], Discriminator Loss: 0.10279929637908936, Generator Loss: 7.022164821624756\n"
     ]
    },
    {
     "name": "stdout",
     "output_type": "stream",
     "text": [
      "Epoch [118/200], Discriminator Loss: 0.019315170124173164, Generator Loss: 8.793343544006348\n"
     ]
    },
    {
     "name": "stdout",
     "output_type": "stream",
     "text": [
      "Epoch [119/200], Discriminator Loss: 0.009256836958229542, Generator Loss: 8.82719612121582\n"
     ]
    },
    {
     "name": "stdout",
     "output_type": "stream",
     "text": [
      "Epoch [120/200], Discriminator Loss: 0.008812593296170235, Generator Loss: 8.257608413696289\n",
      "Model saved for epoch: 120\n"
     ]
    },
    {
     "name": "stdout",
     "output_type": "stream",
     "text": [
      "Epoch [121/200], Discriminator Loss: 0.005807959008961916, Generator Loss: 8.633012771606445\n"
     ]
    },
    {
     "name": "stdout",
     "output_type": "stream",
     "text": [
      "Epoch [122/200], Discriminator Loss: 0.03376272693276405, Generator Loss: 7.280464172363281\n"
     ]
    },
    {
     "name": "stdout",
     "output_type": "stream",
     "text": [
      "Epoch [123/200], Discriminator Loss: 0.010161095298826694, Generator Loss: 7.903337001800537\n"
     ]
    },
    {
     "name": "stdout",
     "output_type": "stream",
     "text": [
      "Epoch [124/200], Discriminator Loss: 0.009078229777514935, Generator Loss: 8.18484878540039\n"
     ]
    },
    {
     "name": "stdout",
     "output_type": "stream",
     "text": [
      "Epoch [125/200], Discriminator Loss: 0.006283968687057495, Generator Loss: 8.616732597351074\n"
     ]
    },
    {
     "name": "stdout",
     "output_type": "stream",
     "text": [
      "Epoch [126/200], Discriminator Loss: 0.005174827761948109, Generator Loss: 8.568023681640625\n"
     ]
    },
    {
     "name": "stdout",
     "output_type": "stream",
     "text": [
      "Epoch [127/200], Discriminator Loss: 0.007816532626748085, Generator Loss: 8.767253875732422\n"
     ]
    },
    {
     "name": "stdout",
     "output_type": "stream",
     "text": [
      "Epoch [128/200], Discriminator Loss: 0.0055605098605155945, Generator Loss: 8.399734497070312\n"
     ]
    },
    {
     "name": "stdout",
     "output_type": "stream",
     "text": [
      "Epoch [129/200], Discriminator Loss: 0.004509678576141596, Generator Loss: 9.370704650878906\n"
     ]
    },
    {
     "name": "stdout",
     "output_type": "stream",
     "text": [
      "Epoch [130/200], Discriminator Loss: 0.010678858496248722, Generator Loss: 9.941747665405273\n",
      "Model saved for epoch: 130\n"
     ]
    },
    {
     "name": "stdout",
     "output_type": "stream",
     "text": [
      "Epoch [131/200], Discriminator Loss: 0.01068771444261074, Generator Loss: 9.030121803283691\n"
     ]
    },
    {
     "name": "stdout",
     "output_type": "stream",
     "text": [
      "Epoch [132/200], Discriminator Loss: 0.005898539908230305, Generator Loss: 9.287714004516602\n"
     ]
    },
    {
     "name": "stdout",
     "output_type": "stream",
     "text": [
      "Epoch [133/200], Discriminator Loss: 0.31817227602005005, Generator Loss: 7.654676914215088\n"
     ]
    },
    {
     "name": "stdout",
     "output_type": "stream",
     "text": [
      "Epoch [134/200], Discriminator Loss: 0.24575181305408478, Generator Loss: 6.590400695800781\n"
     ]
    },
    {
     "name": "stdout",
     "output_type": "stream",
     "text": [
      "Epoch [135/200], Discriminator Loss: 0.09978790581226349, Generator Loss: 6.337750434875488\n"
     ]
    },
    {
     "name": "stdout",
     "output_type": "stream",
     "text": [
      "Epoch [136/200], Discriminator Loss: 0.029435981065034866, Generator Loss: 6.102738857269287\n"
     ]
    },
    {
     "name": "stdout",
     "output_type": "stream",
     "text": [
      "Epoch [137/200], Discriminator Loss: 0.015919124707579613, Generator Loss: 6.451517581939697\n"
     ]
    },
    {
     "name": "stdout",
     "output_type": "stream",
     "text": [
      "Epoch [138/200], Discriminator Loss: 0.015785597264766693, Generator Loss: 6.455177307128906\n"
     ]
    },
    {
     "name": "stdout",
     "output_type": "stream",
     "text": [
      "Epoch [139/200], Discriminator Loss: 0.009586798958480358, Generator Loss: 7.020765781402588\n"
     ]
    },
    {
     "name": "stdout",
     "output_type": "stream",
     "text": [
      "Epoch [140/200], Discriminator Loss: 0.009230615571141243, Generator Loss: 7.221535682678223\n",
      "Model saved for epoch: 140\n"
     ]
    },
    {
     "name": "stdout",
     "output_type": "stream",
     "text": [
      "Epoch [141/200], Discriminator Loss: 0.008553294464945793, Generator Loss: 8.01922607421875\n"
     ]
    },
    {
     "name": "stdout",
     "output_type": "stream",
     "text": [
      "Epoch [142/200], Discriminator Loss: 0.06914953142404556, Generator Loss: 8.07447624206543\n"
     ]
    },
    {
     "name": "stdout",
     "output_type": "stream",
     "text": [
      "Epoch [143/200], Discriminator Loss: 0.020106017589569092, Generator Loss: 7.255614280700684\n"
     ]
    },
    {
     "name": "stdout",
     "output_type": "stream",
     "text": [
      "Epoch [144/200], Discriminator Loss: 0.010008906945586205, Generator Loss: 7.733339786529541\n"
     ]
    },
    {
     "name": "stdout",
     "output_type": "stream",
     "text": [
      "Epoch [145/200], Discriminator Loss: 0.009911669418215752, Generator Loss: 7.726263999938965\n"
     ]
    },
    {
     "name": "stdout",
     "output_type": "stream",
     "text": [
      "Epoch [146/200], Discriminator Loss: 0.008213656023144722, Generator Loss: 8.37839126586914\n"
     ]
    },
    {
     "name": "stdout",
     "output_type": "stream",
     "text": [
      "Epoch [147/200], Discriminator Loss: 0.015501679852604866, Generator Loss: 8.025928497314453\n"
     ]
    },
    {
     "name": "stdout",
     "output_type": "stream",
     "text": [
      "Epoch [148/200], Discriminator Loss: 0.009732834063470364, Generator Loss: 7.9916815757751465\n"
     ]
    },
    {
     "name": "stdout",
     "output_type": "stream",
     "text": [
      "Epoch [149/200], Discriminator Loss: 0.00670734653249383, Generator Loss: 8.409968376159668\n"
     ]
    },
    {
     "name": "stdout",
     "output_type": "stream",
     "text": [
      "Epoch [150/200], Discriminator Loss: 0.03063902258872986, Generator Loss: 8.962931632995605\n",
      "Model saved for epoch: 150\n"
     ]
    },
    {
     "name": "stdout",
     "output_type": "stream",
     "text": [
      "Epoch [151/200], Discriminator Loss: 0.0076722437515854836, Generator Loss: 8.418392181396484\n"
     ]
    },
    {
     "name": "stdout",
     "output_type": "stream",
     "text": [
      "Epoch [152/200], Discriminator Loss: 0.004869056399911642, Generator Loss: 8.21338176727295\n"
     ]
    },
    {
     "name": "stdout",
     "output_type": "stream",
     "text": [
      "Epoch [153/200], Discriminator Loss: 0.004628708120435476, Generator Loss: 8.531316757202148\n"
     ]
    },
    {
     "name": "stdout",
     "output_type": "stream",
     "text": [
      "Epoch [154/200], Discriminator Loss: 0.02344018779695034, Generator Loss: 8.827056884765625\n"
     ]
    },
    {
     "name": "stdout",
     "output_type": "stream",
     "text": [
      "Epoch [155/200], Discriminator Loss: 0.009946966543793678, Generator Loss: 7.484354496002197\n"
     ]
    },
    {
     "name": "stdout",
     "output_type": "stream",
     "text": [
      "Epoch [156/200], Discriminator Loss: 0.004891286604106426, Generator Loss: 8.359850883483887\n"
     ]
    },
    {
     "name": "stdout",
     "output_type": "stream",
     "text": [
      "Epoch [157/200], Discriminator Loss: 0.0038948100991547108, Generator Loss: 8.861200332641602\n"
     ]
    },
    {
     "name": "stdout",
     "output_type": "stream",
     "text": [
      "Epoch [158/200], Discriminator Loss: 0.003377951681613922, Generator Loss: 9.121339797973633\n"
     ]
    },
    {
     "name": "stdout",
     "output_type": "stream",
     "text": [
      "Epoch [159/200], Discriminator Loss: 0.003603339893743396, Generator Loss: 9.06372356414795\n"
     ]
    },
    {
     "name": "stdout",
     "output_type": "stream",
     "text": [
      "Epoch [160/200], Discriminator Loss: 0.004437932278960943, Generator Loss: 8.427802085876465\n",
      "Model saved for epoch: 160\n"
     ]
    },
    {
     "name": "stdout",
     "output_type": "stream",
     "text": [
      "Epoch [161/200], Discriminator Loss: 0.0024489127099514008, Generator Loss: 9.185480117797852\n"
     ]
    },
    {
     "name": "stdout",
     "output_type": "stream",
     "text": [
      "Epoch [162/200], Discriminator Loss: 0.002119813347235322, Generator Loss: 9.06432819366455\n"
     ]
    },
    {
     "name": "stdout",
     "output_type": "stream",
     "text": [
      "Epoch [163/200], Discriminator Loss: 0.0014842090895399451, Generator Loss: 9.160123825073242\n"
     ]
    },
    {
     "name": "stdout",
     "output_type": "stream",
     "text": [
      "Epoch [164/200], Discriminator Loss: 0.0016165099805220962, Generator Loss: 9.380638122558594\n"
     ]
    },
    {
     "name": "stdout",
     "output_type": "stream",
     "text": [
      "Epoch [165/200], Discriminator Loss: 0.00119476777035743, Generator Loss: 9.851834297180176\n"
     ]
    },
    {
     "name": "stdout",
     "output_type": "stream",
     "text": [
      "Epoch [166/200], Discriminator Loss: 0.09324027597904205, Generator Loss: 12.454317092895508\n"
     ]
    },
    {
     "name": "stdout",
     "output_type": "stream",
     "text": [
      "Epoch [167/200], Discriminator Loss: 0.09916406869888306, Generator Loss: 9.637815475463867\n"
     ]
    },
    {
     "name": "stdout",
     "output_type": "stream",
     "text": [
      "Epoch [168/200], Discriminator Loss: 0.045610684901475906, Generator Loss: 6.30367374420166\n"
     ]
    },
    {
     "name": "stdout",
     "output_type": "stream",
     "text": [
      "Epoch [169/200], Discriminator Loss: 0.19229060411453247, Generator Loss: 6.607037544250488\n"
     ]
    },
    {
     "name": "stdout",
     "output_type": "stream",
     "text": [
      "Epoch [170/200], Discriminator Loss: 0.24582064151763916, Generator Loss: 6.709753513336182\n",
      "Model saved for epoch: 170\n"
     ]
    },
    {
     "name": "stdout",
     "output_type": "stream",
     "text": [
      "Epoch [171/200], Discriminator Loss: 0.06331193447113037, Generator Loss: 5.120670318603516\n"
     ]
    },
    {
     "name": "stdout",
     "output_type": "stream",
     "text": [
      "Epoch [172/200], Discriminator Loss: 0.03255871683359146, Generator Loss: 5.227022647857666\n"
     ]
    },
    {
     "name": "stdout",
     "output_type": "stream",
     "text": [
      "Epoch [173/200], Discriminator Loss: 0.02082838863134384, Generator Loss: 5.85113525390625\n"
     ]
    },
    {
     "name": "stdout",
     "output_type": "stream",
     "text": [
      "Epoch [174/200], Discriminator Loss: 0.020356807857751846, Generator Loss: 6.157801151275635\n"
     ]
    },
    {
     "name": "stdout",
     "output_type": "stream",
     "text": [
      "Epoch [175/200], Discriminator Loss: 0.017433302477002144, Generator Loss: 6.717162132263184\n"
     ]
    },
    {
     "name": "stdout",
     "output_type": "stream",
     "text": [
      "Epoch [176/200], Discriminator Loss: 0.014865840785205364, Generator Loss: 6.772411346435547\n"
     ]
    },
    {
     "name": "stdout",
     "output_type": "stream",
     "text": [
      "Epoch [177/200], Discriminator Loss: 0.019352639093995094, Generator Loss: 7.7154388427734375\n"
     ]
    },
    {
     "name": "stdout",
     "output_type": "stream",
     "text": [
      "Epoch [178/200], Discriminator Loss: 0.00795958936214447, Generator Loss: 7.712708950042725\n"
     ]
    },
    {
     "name": "stdout",
     "output_type": "stream",
     "text": [
      "Epoch [179/200], Discriminator Loss: 0.01293250173330307, Generator Loss: 7.749751091003418\n"
     ]
    },
    {
     "name": "stdout",
     "output_type": "stream",
     "text": [
      "Epoch [180/200], Discriminator Loss: 0.023713408038020134, Generator Loss: 8.673591613769531\n",
      "Model saved for epoch: 180\n"
     ]
    },
    {
     "name": "stdout",
     "output_type": "stream",
     "text": [
      "Epoch [181/200], Discriminator Loss: 0.010790083557367325, Generator Loss: 7.499737739562988\n"
     ]
    },
    {
     "name": "stdout",
     "output_type": "stream",
     "text": [
      "Epoch [182/200], Discriminator Loss: 0.016601702198386192, Generator Loss: 8.20368766784668\n"
     ]
    },
    {
     "name": "stdout",
     "output_type": "stream",
     "text": [
      "Epoch [183/200], Discriminator Loss: 0.009253120981156826, Generator Loss: 7.472699165344238\n"
     ]
    },
    {
     "name": "stdout",
     "output_type": "stream",
     "text": [
      "Epoch [184/200], Discriminator Loss: 0.00718979025259614, Generator Loss: 7.951862335205078\n"
     ]
    },
    {
     "name": "stdout",
     "output_type": "stream",
     "text": [
      "Epoch [185/200], Discriminator Loss: 0.004741915035992861, Generator Loss: 8.903966903686523\n"
     ]
    },
    {
     "name": "stdout",
     "output_type": "stream",
     "text": [
      "Epoch [186/200], Discriminator Loss: 0.0036822110414505005, Generator Loss: 9.544296264648438\n"
     ]
    },
    {
     "name": "stdout",
     "output_type": "stream",
     "text": [
      "Epoch [187/200], Discriminator Loss: 0.004636269062757492, Generator Loss: 8.518031120300293\n"
     ]
    },
    {
     "name": "stdout",
     "output_type": "stream",
     "text": [
      "Epoch [188/200], Discriminator Loss: 0.007793510798364878, Generator Loss: 8.462725639343262\n"
     ]
    },
    {
     "name": "stdout",
     "output_type": "stream",
     "text": [
      "Epoch [189/200], Discriminator Loss: 0.008519185706973076, Generator Loss: 8.739973068237305\n"
     ]
    },
    {
     "name": "stdout",
     "output_type": "stream",
     "text": [
      "Epoch [190/200], Discriminator Loss: 0.004289545584470034, Generator Loss: 9.109926223754883\n",
      "Model saved for epoch: 190\n"
     ]
    },
    {
     "name": "stdout",
     "output_type": "stream",
     "text": [
      "Epoch [191/200], Discriminator Loss: 0.002910032868385315, Generator Loss: 8.831645011901855\n"
     ]
    },
    {
     "name": "stdout",
     "output_type": "stream",
     "text": [
      "Epoch [192/200], Discriminator Loss: 0.10783274471759796, Generator Loss: 8.306382179260254\n"
     ]
    },
    {
     "name": "stdout",
     "output_type": "stream",
     "text": [
      "Epoch [193/200], Discriminator Loss: 0.28428196907043457, Generator Loss: 6.294951438903809\n"
     ]
    },
    {
     "name": "stdout",
     "output_type": "stream",
     "text": [
      "Epoch [194/200], Discriminator Loss: 0.03258027136325836, Generator Loss: 6.266628265380859\n"
     ]
    },
    {
     "name": "stdout",
     "output_type": "stream",
     "text": [
      "Epoch [195/200], Discriminator Loss: 0.23003831505775452, Generator Loss: 5.552586078643799\n"
     ]
    }
   ],
   "source": [
    "#training loop\n",
    "for epoch in range(1, EPOCHS):\n",
    "    d_losses = []\n",
    "    g_losses = []\n",
    "    for idx, real_images in enumerate(train_loader):\n",
    "        input_images = real_images.to(device)  #important line\n",
    "#         print(real_images.device)\n",
    "        d_loss, g_loss = dcgan.train_step(input_images)\n",
    "        d_losses.append(d_loss)\n",
    "        g_losses.append(g_loss)\n",
    "    \n",
    "#     if (epoch) % SAMPLE_INTERVAL == 0:\n",
    "#         with torch.no_grad():\n",
    "#             generated_images = dcgan.generate_images(10).cpu()\n",
    "#             save_image(generated_images, f\"./output/generated_img_{epoch}.png\", nrow=5, normalize=True)\n",
    "    \n",
    "    print(f\"Epoch [{epoch}/{EPOCHS}], Discriminator Loss: {torch.mean(torch.tensor(d_losses))}, Generator Loss: {torch.mean(torch.tensor(g_losses))}\")\n",
    "    \n",
    "    #save at every epoch\n",
    "    if epoch%10 == 0:\n",
    "        torch.save(generator.state_dict(), \"./models/generator.pth\")\n",
    "        torch.save(discriminator.state_dict(), \"./models/discriminator.pth\")\n",
    "        print(f\"Model saved for epoch: {epoch}\")"
   ]
  }
 ],
 "metadata": {
  "kaggle": {
   "accelerator": "gpu",
   "dataSources": [
    {
     "datasetId": 39176,
     "sourceId": 868050,
     "sourceType": "datasetVersion"
    }
   ],
   "dockerImageVersionId": 30664,
   "isGpuEnabled": true,
   "isInternetEnabled": true,
   "language": "python",
   "sourceType": "notebook"
  },
  "kernelspec": {
   "display_name": "Python 3",
   "language": "python",
   "name": "python3"
  },
  "language_info": {
   "codemirror_mode": {
    "name": "ipython",
    "version": 3
   },
   "file_extension": ".py",
   "mimetype": "text/x-python",
   "name": "python",
   "nbconvert_exporter": "python",
   "pygments_lexer": "ipython3",
   "version": "3.10.13"
  },
  "papermill": {
   "default_parameters": {},
   "duration": null,
   "end_time": null,
   "environment_variables": {},
   "exception": null,
   "input_path": "__notebook__.ipynb",
   "output_path": "__notebook__.ipynb",
   "parameters": {},
   "start_time": "2024-03-10T18:53:39.668663",
   "version": "2.5.0"
  }
 },
 "nbformat": 4,
 "nbformat_minor": 5
}